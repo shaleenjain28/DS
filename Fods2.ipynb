{
  "nbformat": 4,
  "nbformat_minor": 0,
  "metadata": {
    "colab": {
      "provenance": [],
      "authorship_tag": "ABX9TyPTo9U/FG5a9KAJJ8czuWMA",
      "include_colab_link": true
    },
    "kernelspec": {
      "name": "python3",
      "display_name": "Python 3"
    },
    "language_info": {
      "name": "python"
    }
  },
  "cells": [
    {
      "cell_type": "markdown",
      "metadata": {
        "id": "view-in-github",
        "colab_type": "text"
      },
      "source": [
        "<a href=\"https://colab.research.google.com/github/shaleenjain28/DS/blob/main/Fods2.ipynb\" target=\"_parent\"><img src=\"https://colab.research.google.com/assets/colab-badge.svg\" alt=\"Open In Colab\"/></a>"
      ]
    },
    {
      "cell_type": "code",
      "execution_count": null,
      "metadata": {
        "colab": {
          "base_uri": "https://localhost:8080/"
        },
        "id": "CPwWoZUTx9lj",
        "outputId": "e383a433-2a42-4f77-e749-fb38fbeaa1a3"
      },
      "outputs": [
        {
          "output_type": "stream",
          "name": "stdout",
          "text": [
            "Matrix A:\n",
            " [[1 2]\n",
            " [3 4]]\n",
            "Matrix B:\n",
            " [[5 6]\n",
            " [7 8]]\n",
            "\n",
            "Addition (A + B):\n",
            " [[ 6  8]\n",
            " [10 12]]\n",
            "\n",
            "Subtraction (A - B):\n",
            " [[-4 -4]\n",
            " [-4 -4]]\n",
            "\n",
            "Matrix Multiplication (A @ B):\n",
            " [[19 22]\n",
            " [43 50]]\n",
            "\n",
            "Element-wise Multiplication (A * B):\n",
            " [[ 5 12]\n",
            " [21 32]]\n",
            "\n",
            "Determinant of A: -2.0\n",
            "\n",
            "Inverse of A:\n",
            " [[-2.   1. ]\n",
            " [ 1.5 -0.5]]\n"
          ]
        }
      ],
      "source": [
        "import numpy as np\n",
        "from scipy import linalg\n",
        "\n",
        "# Define two matrices\n",
        "A = np.array([[1, 2], [3, 4]])\n",
        "B = np.array([[5, 6], [7, 8]])\n",
        "\n",
        "# Show original matrices\n",
        "print(\"Matrix A:\\n\", A)\n",
        "print(\"Matrix B:\\n\", B)\n",
        "\n",
        "# Addition\n",
        "add = A + B\n",
        "print(\"\\nAddition (A + B):\\n\", add)\n",
        "\n",
        "# Subtraction\n",
        "sub = A - B\n",
        "print(\"\\nSubtraction (A - B):\\n\", sub)\n",
        "\n",
        "# Matrix multiplication\n",
        "matmul = A @ B  # or np.dot(A, B)\n",
        "print(\"\\nMatrix Multiplication (A @ B):\\n\", matmul)\n",
        "\n",
        "# Element-wise multiplication\n",
        "elem_mul = A * B\n",
        "print(\"\\nElement-wise Multiplication (A * B):\\n\", elem_mul)\n",
        "\n",
        "# Determinant\n",
        "det_A = linalg.det(A)\n",
        "print(\"\\nDeterminant of A:\", det_A)\n",
        "\n",
        "# Inverse\n",
        "inv_A = linalg.inv(A)\n",
        "print(\"\\nInverse of A:\\n\", inv_A)"
      ]
    },
    {
      "cell_type": "code",
      "source": [
        "import numpy as np\n",
        "from scipy import linalg\n",
        "\n",
        "# Define matrix\n",
        "A = np.array([[1, 2], [3, 4]])\n",
        "\n",
        "# Show original matrix\n",
        "print(\"Original Matrix A:\\n\", A)\n",
        "\n",
        "# Eigenvalues and Eigenvectors\n",
        "eigenvalues, eigenvectors = linalg.eig(A)\n",
        "\n",
        "print(\"\\nEigenvalues:\\n\", eigenvalues)\n",
        "print(\"\\nEigenvectors (each column is an eigenvector corresponding to the eigenvalue):\\n\", eigenvectors)\n",
        "\n",
        "# Check orthogonality of eigenvectors\n",
        "v1 = eigenvectors[:, 0]\n",
        "v2 = eigenvectors[:, 1]\n",
        "\n",
        "# Dot product should be zero for orthogonal vectors\n",
        "dot_product = np.dot(np.conj(v1), v2)\n",
        "print(\"\\nDot Product of eigenvectors v1 and v2:\", dot_product)\n",
        "\n",
        "if np.isclose(dot_product, 0):\n",
        "    print(\"→ Eigenvectors are orthogonal\")\n",
        "else:\n",
        "    print(\"→ Eigenvectors are not orthogonal\")"
      ],
      "metadata": {
        "colab": {
          "base_uri": "https://localhost:8080/"
        },
        "id": "mAatNQMcyUdb",
        "outputId": "21f0de08-2a09-42a6-a671-384d21e423c3"
      },
      "execution_count": null,
      "outputs": [
        {
          "output_type": "stream",
          "name": "stdout",
          "text": [
            "Original Matrix A:\n",
            " [[1 2]\n",
            " [3 4]]\n",
            "\n",
            "Eigenvalues:\n",
            " [-0.37228132+0.j  5.37228132+0.j]\n",
            "\n",
            "Eigenvectors (each column is an eigenvector corresponding to the eigenvalue):\n",
            " [[-0.82456484 -0.41597356]\n",
            " [ 0.56576746 -0.90937671]]\n",
            "\n",
            "Dot Product of eigenvectors v1 and v2: -0.17149858514250893\n",
            "→ Eigenvectors are not orthogonal\n"
          ]
        }
      ]
    },
    {
      "cell_type": "code",
      "source": [
        "from sympy import Matrix\n",
        "\n",
        "# Define vectors\n",
        "v1 = [1, 2, 3]\n",
        "v2 = [2, 4, 6]\n",
        "v3 = [1, 0, 1]\n",
        "\n",
        "# Create a matrix with vectors as rows\n",
        "M = Matrix([v1, v2, v3])\n",
        "\n",
        "# Show original matrix\n",
        "print(\"Original Matrix (each row is a vector):\\n\", M)\n",
        "\n",
        "# Use row-reduced echelon form (RREF) to find the basis\n",
        "rref_matrix, pivot_columns = M.rref()\n",
        "\n",
        "print(\"\\nRow Reduced Echelon Form (RREF):\\n\", rref_matrix)\n",
        "print(\"Pivot Columns (indexes of linearly independent vectors):\", pivot_columns)\n",
        "\n",
        "# Basis of the vector space (take original vectors corresponding to pivot rows)\n",
        "basis_vectors = [M.row(i) for i in pivot_columns]\n",
        "\n",
        "print(\"\\nBasis Vectors of the Vector Space:\")\n",
        "for vec in basis_vectors:\n",
        "    print(vec)\n",
        "\n",
        "print(f\"\\n→ The span is the space formed by all linear combinations of these {len(basis_vectors)} basis vector(s).\")"
      ],
      "metadata": {
        "id": "wnT1pYbUyXbK",
        "outputId": "b98edb38-006b-4706-f997-f47632560569",
        "colab": {
          "base_uri": "https://localhost:8080/"
        }
      },
      "execution_count": null,
      "outputs": [
        {
          "output_type": "stream",
          "name": "stdout",
          "text": [
            "Original Matrix (each row is a vector):\n",
            " Matrix([[1, 2, 3], [2, 4, 6], [1, 0, 1]])\n",
            "\n",
            "Row Reduced Echelon Form (RREF):\n",
            " Matrix([[1, 0, 1], [0, 1, 1], [0, 0, 0]])\n",
            "Pivot Columns (indexes of linearly independent vectors): (0, 1)\n",
            "\n",
            "Basis Vectors of the Vector Space:\n",
            "Matrix([[1, 2, 3]])\n",
            "Matrix([[2, 4, 6]])\n",
            "\n",
            "→ The span is the space formed by all linear combinations of these 2 basis vector(s).\n"
          ]
        }
      ]
    }
  ]
}